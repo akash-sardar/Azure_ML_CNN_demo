{
 "cells": [
  {
   "cell_type": "code",
   "execution_count": 1,
   "metadata": {},
   "outputs": [
    {
     "name": "stdout",
     "output_type": "stream",
     "text": [
      "Requirement already satisfied: azure-ai-ml==1.18.0 in d:\\softwares\\anaconda3\\envs\\llm_env\\lib\\site-packages (from -r requirements.txt (line 1)) (1.18.0)\n",
      "Requirement already satisfied: azure-identity in d:\\softwares\\anaconda3\\envs\\llm_env\\lib\\site-packages (from -r requirements.txt (line 2)) (1.17.1)\n",
      "Requirement already satisfied: azure-keyvault-secrets in d:\\softwares\\anaconda3\\envs\\llm_env\\lib\\site-packages (from -r requirements.txt (line 3)) (4.8.0)\n",
      "Requirement already satisfied: python-dotenv in d:\\softwares\\anaconda3\\envs\\llm_env\\lib\\site-packages (from -r requirements.txt (line 4)) (1.0.1)\n",
      "Requirement already satisfied: pyyaml>=5.1.0 in d:\\softwares\\anaconda3\\envs\\llm_env\\lib\\site-packages (from azure-ai-ml==1.18.0->-r requirements.txt (line 1)) (6.0.1)\n",
      "Requirement already satisfied: msrest>=0.6.18 in d:\\softwares\\anaconda3\\envs\\llm_env\\lib\\site-packages (from azure-ai-ml==1.18.0->-r requirements.txt (line 1)) (0.7.1)\n",
      "Requirement already satisfied: azure-core>=1.23.0 in d:\\softwares\\anaconda3\\envs\\llm_env\\lib\\site-packages (from azure-ai-ml==1.18.0->-r requirements.txt (line 1)) (1.30.2)\n",
      "Requirement already satisfied: azure-mgmt-core>=1.3.0 in d:\\softwares\\anaconda3\\envs\\llm_env\\lib\\site-packages (from azure-ai-ml==1.18.0->-r requirements.txt (line 1)) (1.4.0)\n",
      "Requirement already satisfied: marshmallow>=3.5 in d:\\softwares\\anaconda3\\envs\\llm_env\\lib\\site-packages (from azure-ai-ml==1.18.0->-r requirements.txt (line 1)) (3.21.3)\n",
      "Requirement already satisfied: jsonschema>=4.0.0 in d:\\softwares\\anaconda3\\envs\\llm_env\\lib\\site-packages (from azure-ai-ml==1.18.0->-r requirements.txt (line 1)) (4.22.0)\n",
      "Requirement already satisfied: tqdm in d:\\softwares\\anaconda3\\envs\\llm_env\\lib\\site-packages (from azure-ai-ml==1.18.0->-r requirements.txt (line 1)) (4.66.4)\n",
      "Requirement already satisfied: strictyaml in d:\\softwares\\anaconda3\\envs\\llm_env\\lib\\site-packages (from azure-ai-ml==1.18.0->-r requirements.txt (line 1)) (1.7.3)\n",
      "Requirement already satisfied: colorama in d:\\softwares\\anaconda3\\envs\\llm_env\\lib\\site-packages (from azure-ai-ml==1.18.0->-r requirements.txt (line 1)) (0.4.6)\n",
      "Requirement already satisfied: pyjwt in d:\\softwares\\anaconda3\\envs\\llm_env\\lib\\site-packages (from azure-ai-ml==1.18.0->-r requirements.txt (line 1)) (2.8.0)\n",
      "Requirement already satisfied: azure-storage-blob>=12.10.0 in d:\\softwares\\anaconda3\\envs\\llm_env\\lib\\site-packages (from azure-ai-ml==1.18.0->-r requirements.txt (line 1)) (12.22.0)\n",
      "Requirement already satisfied: azure-storage-file-share in d:\\softwares\\anaconda3\\envs\\llm_env\\lib\\site-packages (from azure-ai-ml==1.18.0->-r requirements.txt (line 1)) (12.17.0)\n",
      "Requirement already satisfied: azure-storage-file-datalake>=12.2.0 in d:\\softwares\\anaconda3\\envs\\llm_env\\lib\\site-packages (from azure-ai-ml==1.18.0->-r requirements.txt (line 1)) (12.16.0)\n",
      "Requirement already satisfied: pydash>=6.0.0 in d:\\softwares\\anaconda3\\envs\\llm_env\\lib\\site-packages (from azure-ai-ml==1.18.0->-r requirements.txt (line 1)) (8.0.3)\n",
      "Requirement already satisfied: isodate in d:\\softwares\\anaconda3\\envs\\llm_env\\lib\\site-packages (from azure-ai-ml==1.18.0->-r requirements.txt (line 1)) (0.6.1)\n",
      "Requirement already satisfied: azure-common>=1.1 in d:\\softwares\\anaconda3\\envs\\llm_env\\lib\\site-packages (from azure-ai-ml==1.18.0->-r requirements.txt (line 1)) (1.1.28)\n",
      "Requirement already satisfied: typing-extensions in d:\\softwares\\anaconda3\\envs\\llm_env\\lib\\site-packages (from azure-ai-ml==1.18.0->-r requirements.txt (line 1)) (4.11.0)\n",
      "Requirement already satisfied: opencensus-ext-azure in d:\\softwares\\anaconda3\\envs\\llm_env\\lib\\site-packages (from azure-ai-ml==1.18.0->-r requirements.txt (line 1)) (1.1.13)\n",
      "Requirement already satisfied: opencensus-ext-logging in d:\\softwares\\anaconda3\\envs\\llm_env\\lib\\site-packages (from azure-ai-ml==1.18.0->-r requirements.txt (line 1)) (0.1.1)\n",
      "Requirement already satisfied: cryptography>=2.5 in d:\\softwares\\anaconda3\\envs\\llm_env\\lib\\site-packages (from azure-identity->-r requirements.txt (line 2)) (43.0.0)\n",
      "Requirement already satisfied: msal>=1.24.0 in d:\\softwares\\anaconda3\\envs\\llm_env\\lib\\site-packages (from azure-identity->-r requirements.txt (line 2)) (1.30.0)\n",
      "Requirement already satisfied: msal-extensions>=0.3.0 in d:\\softwares\\anaconda3\\envs\\llm_env\\lib\\site-packages (from azure-identity->-r requirements.txt (line 2)) (1.2.0)\n",
      "Requirement already satisfied: requests>=2.21.0 in d:\\softwares\\anaconda3\\envs\\llm_env\\lib\\site-packages (from azure-core>=1.23.0->azure-ai-ml==1.18.0->-r requirements.txt (line 1)) (2.31.0)\n",
      "Requirement already satisfied: six>=1.11.0 in d:\\softwares\\anaconda3\\envs\\llm_env\\lib\\site-packages (from azure-core>=1.23.0->azure-ai-ml==1.18.0->-r requirements.txt (line 1)) (1.16.0)\n",
      "Requirement already satisfied: cffi>=1.12 in d:\\softwares\\anaconda3\\envs\\llm_env\\lib\\site-packages (from cryptography>=2.5->azure-identity->-r requirements.txt (line 2)) (1.17.0)\n",
      "Requirement already satisfied: attrs>=22.2.0 in d:\\softwares\\anaconda3\\envs\\llm_env\\lib\\site-packages (from jsonschema>=4.0.0->azure-ai-ml==1.18.0->-r requirements.txt (line 1)) (23.2.0)\n",
      "Requirement already satisfied: jsonschema-specifications>=2023.03.6 in d:\\softwares\\anaconda3\\envs\\llm_env\\lib\\site-packages (from jsonschema>=4.0.0->azure-ai-ml==1.18.0->-r requirements.txt (line 1)) (2023.12.1)\n",
      "Requirement already satisfied: referencing>=0.28.4 in d:\\softwares\\anaconda3\\envs\\llm_env\\lib\\site-packages (from jsonschema>=4.0.0->azure-ai-ml==1.18.0->-r requirements.txt (line 1)) (0.35.1)\n",
      "Requirement already satisfied: rpds-py>=0.7.1 in d:\\softwares\\anaconda3\\envs\\llm_env\\lib\\site-packages (from jsonschema>=4.0.0->azure-ai-ml==1.18.0->-r requirements.txt (line 1)) (0.18.1)\n",
      "Requirement already satisfied: packaging>=17.0 in d:\\softwares\\anaconda3\\envs\\llm_env\\lib\\site-packages (from marshmallow>=3.5->azure-ai-ml==1.18.0->-r requirements.txt (line 1)) (23.2)\n",
      "Requirement already satisfied: portalocker<3,>=1.4 in d:\\softwares\\anaconda3\\envs\\llm_env\\lib\\site-packages (from msal-extensions>=0.3.0->azure-identity->-r requirements.txt (line 2)) (2.10.1)\n",
      "Requirement already satisfied: certifi>=2017.4.17 in d:\\softwares\\anaconda3\\envs\\llm_env\\lib\\site-packages (from msrest>=0.6.18->azure-ai-ml==1.18.0->-r requirements.txt (line 1)) (2024.6.2)\n",
      "Requirement already satisfied: requests-oauthlib>=0.5.0 in c:\\users\\akash\\appdata\\roaming\\python\\python311\\site-packages (from msrest>=0.6.18->azure-ai-ml==1.18.0->-r requirements.txt (line 1)) (2.0.0)\n",
      "Requirement already satisfied: opencensus<1.0.0,>=0.11.4 in d:\\softwares\\anaconda3\\envs\\llm_env\\lib\\site-packages (from opencensus-ext-azure->azure-ai-ml==1.18.0->-r requirements.txt (line 1)) (0.11.4)\n",
      "Requirement already satisfied: psutil>=5.6.3 in d:\\softwares\\anaconda3\\envs\\llm_env\\lib\\site-packages (from opencensus-ext-azure->azure-ai-ml==1.18.0->-r requirements.txt (line 1)) (5.9.8)\n",
      "Requirement already satisfied: python-dateutil>=2.6.0 in d:\\softwares\\anaconda3\\envs\\llm_env\\lib\\site-packages (from strictyaml->azure-ai-ml==1.18.0->-r requirements.txt (line 1)) (2.9.0.post0)\n",
      "Requirement already satisfied: pycparser in d:\\softwares\\anaconda3\\envs\\llm_env\\lib\\site-packages (from cffi>=1.12->cryptography>=2.5->azure-identity->-r requirements.txt (line 2)) (2.22)\n",
      "Requirement already satisfied: opencensus-context>=0.1.3 in d:\\softwares\\anaconda3\\envs\\llm_env\\lib\\site-packages (from opencensus<1.0.0,>=0.11.4->opencensus-ext-azure->azure-ai-ml==1.18.0->-r requirements.txt (line 1)) (0.1.3)\n",
      "Requirement already satisfied: google-api-core<3.0.0,>=1.0.0 in d:\\softwares\\anaconda3\\envs\\llm_env\\lib\\site-packages (from opencensus<1.0.0,>=0.11.4->opencensus-ext-azure->azure-ai-ml==1.18.0->-r requirements.txt (line 1)) (2.19.1)\n",
      "Requirement already satisfied: pywin32>=226 in d:\\softwares\\anaconda3\\envs\\llm_env\\lib\\site-packages (from portalocker<3,>=1.4->msal-extensions>=0.3.0->azure-identity->-r requirements.txt (line 2)) (306)\n",
      "Requirement already satisfied: charset-normalizer<4,>=2 in d:\\softwares\\anaconda3\\envs\\llm_env\\lib\\site-packages (from requests>=2.21.0->azure-core>=1.23.0->azure-ai-ml==1.18.0->-r requirements.txt (line 1)) (3.3.2)\n",
      "Requirement already satisfied: idna<4,>=2.5 in d:\\softwares\\anaconda3\\envs\\llm_env\\lib\\site-packages (from requests>=2.21.0->azure-core>=1.23.0->azure-ai-ml==1.18.0->-r requirements.txt (line 1)) (3.7)\n",
      "Requirement already satisfied: urllib3<3,>=1.21.1 in d:\\softwares\\anaconda3\\envs\\llm_env\\lib\\site-packages (from requests>=2.21.0->azure-core>=1.23.0->azure-ai-ml==1.18.0->-r requirements.txt (line 1)) (2.2.1)\n",
      "Requirement already satisfied: oauthlib>=3.0.0 in c:\\users\\akash\\appdata\\roaming\\python\\python311\\site-packages (from requests-oauthlib>=0.5.0->msrest>=0.6.18->azure-ai-ml==1.18.0->-r requirements.txt (line 1)) (3.2.2)\n",
      "Requirement already satisfied: googleapis-common-protos<2.0.dev0,>=1.56.2 in d:\\softwares\\anaconda3\\envs\\llm_env\\lib\\site-packages (from google-api-core<3.0.0,>=1.0.0->opencensus<1.0.0,>=0.11.4->opencensus-ext-azure->azure-ai-ml==1.18.0->-r requirements.txt (line 1)) (1.63.1)\n",
      "Requirement already satisfied: protobuf!=3.20.0,!=3.20.1,!=4.21.0,!=4.21.1,!=4.21.2,!=4.21.3,!=4.21.4,!=4.21.5,<6.0.0.dev0,>=3.19.5 in d:\\softwares\\anaconda3\\envs\\llm_env\\lib\\site-packages (from google-api-core<3.0.0,>=1.0.0->opencensus<1.0.0,>=0.11.4->opencensus-ext-azure->azure-ai-ml==1.18.0->-r requirements.txt (line 1)) (5.27.3)\n",
      "Requirement already satisfied: proto-plus<2.0.0dev,>=1.22.3 in d:\\softwares\\anaconda3\\envs\\llm_env\\lib\\site-packages (from google-api-core<3.0.0,>=1.0.0->opencensus<1.0.0,>=0.11.4->opencensus-ext-azure->azure-ai-ml==1.18.0->-r requirements.txt (line 1)) (1.24.0)\n",
      "Requirement already satisfied: google-auth<3.0.dev0,>=2.14.1 in c:\\users\\akash\\appdata\\roaming\\python\\python311\\site-packages (from google-api-core<3.0.0,>=1.0.0->opencensus<1.0.0,>=0.11.4->opencensus-ext-azure->azure-ai-ml==1.18.0->-r requirements.txt (line 1)) (2.29.0)\n",
      "Requirement already satisfied: cachetools<6.0,>=2.0.0 in c:\\users\\akash\\appdata\\roaming\\python\\python311\\site-packages (from google-auth<3.0.dev0,>=2.14.1->google-api-core<3.0.0,>=1.0.0->opencensus<1.0.0,>=0.11.4->opencensus-ext-azure->azure-ai-ml==1.18.0->-r requirements.txt (line 1)) (5.3.3)\n",
      "Requirement already satisfied: pyasn1-modules>=0.2.1 in c:\\users\\akash\\appdata\\roaming\\python\\python311\\site-packages (from google-auth<3.0.dev0,>=2.14.1->google-api-core<3.0.0,>=1.0.0->opencensus<1.0.0,>=0.11.4->opencensus-ext-azure->azure-ai-ml==1.18.0->-r requirements.txt (line 1)) (0.4.0)\n",
      "Requirement already satisfied: rsa<5,>=3.1.4 in d:\\softwares\\anaconda3\\envs\\llm_env\\lib\\site-packages (from google-auth<3.0.dev0,>=2.14.1->google-api-core<3.0.0,>=1.0.0->opencensus<1.0.0,>=0.11.4->opencensus-ext-azure->azure-ai-ml==1.18.0->-r requirements.txt (line 1)) (4.7.2)\n",
      "Requirement already satisfied: pyasn1<0.7.0,>=0.4.6 in c:\\users\\akash\\appdata\\roaming\\python\\python311\\site-packages (from pyasn1-modules>=0.2.1->google-auth<3.0.dev0,>=2.14.1->google-api-core<3.0.0,>=1.0.0->opencensus<1.0.0,>=0.11.4->opencensus-ext-azure->azure-ai-ml==1.18.0->-r requirements.txt (line 1)) (0.6.0)\n"
     ]
    }
   ],
   "source": [
    "! pip install -r requirements.txt"
   ]
  },
  {
   "cell_type": "markdown",
   "metadata": {},
   "source": [
    "## Connect to Azure Workspace\n",
    "1. Connect to Azure Machine Learning Workspace. The Azure Machine Learning Workspace is the top-level resource for the service. It provides a centralized place to work (a curated environment) with all the artifacts"
   ]
  },
  {
   "cell_type": "code",
   "execution_count": 10,
   "metadata": {},
   "outputs": [],
   "source": [
    "# Handle to the workspace\n",
    "from azure.ai.ml import MLClient\n",
    "\n",
    "# Authentication package\n",
    "from azure.keyvault.secrets import SecretClient\n",
    "from azure.identity import DefaultAzureCredential, CredentialUnavailableError\n",
    "import os\n",
    "import dotenv\n",
    "dotenv.load_dotenv()\n",
    "SUBSCRIPTION_ID = os.getenv(\"SUBSCRIPTION_ID\")\n",
    "RESOURCE_GROUP_NAME = os.getenv(\"RESOURCE_GROUP_NAME\")\n",
    "WORKSPACE_NAME = os.getenv(\"WORKSPACE_NAME\")\n",
    "VAULT_URL = os.getenv(\"AZURE_VAULT_URL\")\n",
    "credential = DefaultAzureCredential()\n",
    "# secret_name = \"MLKEY\"\n",
    "# secret_client = SecretClient(vault_url = VAULT_URL, credential = credential)\n",
    "# secret = secret_client.get_secret(secret_name)\n",
    "\n",
    "\n",
    "from azure.ai.ml import command, Input\n",
    "\n",
    "from azure.ai.ml.entities import(\n",
    "    ManagedOnlineEndpoint,\n",
    "    ManagedOnlineDeployment,\n",
    "    Model,\n",
    "    CodeConfiguration\n",
    ")\n",
    "\n",
    "# Create BlobServiceClient\n",
    "from azure.storage.blob import BlobServiceClient\n"
   ]
  },
  {
   "cell_type": "markdown",
   "metadata": {},
   "source": [
    "2. Get a Handle to the workspace by providing subscription Id, Resource Group name and workspace name."
   ]
  },
  {
   "cell_type": "code",
   "execution_count": 11,
   "metadata": {},
   "outputs": [],
   "source": [
    "# Get a handle to the workspace\n",
    "ml_client = MLClient(\n",
    "    credential=credential,\n",
    "    subscription_id=SUBSCRIPTION_ID,\n",
    "    resource_group_name=RESOURCE_GROUP_NAME,\n",
    "    workspace_name=WORKSPACE_NAME,\n",
    ")\n"
   ]
  },
  {
   "cell_type": "markdown",
   "metadata": {},
   "source": [
    "## Create a compute Resource\n",
    "1. Azure Machine Learning needs a compute resource to run a job. This resource can be simgle or multi-node machines with Linux or Windows OS\n",
    "2. For this example - we will use Standard_NC4as_T4_v3 with 4 cores, 28 GB RAM, 176 GB Storage\n",
    "3. More reosurces are listed in - https://azure.microsoft.com/en-us/pricing/details/machine-learning/#pricing"
   ]
  },
  {
   "cell_type": "code",
   "execution_count": 14,
   "metadata": {},
   "outputs": [
    {
     "name": "stdout",
     "output_type": "stream",
     "text": [
      "Creating new gpu compute target..\n"
     ]
    },
    {
     "ename": "HttpResponseError",
     "evalue": "(BadRequest) {\"id\":\"https://resourceprovider.batchai-eastus2.svc/subscriptions/bbf5eb8c-3046-4876-8eb1-5210a3e6750f/providers/Microsoft.BatchAI/locations/eastus2/operationresults/d8ccb84f-6da5-40e2-8333-8a6c367f904d\",\"name\":\"d8ccb84f-6da5-40e2-8333-8a6c367f904d\",\"status\":\"Failed\",\"startTime\":\"2024-08-17T19:11:43.306Z\",\"endTime\":\"2024-08-17T19:11:48.69Z\",\"error\":{\"code\":\"ClusterMinNodesExceedCoreQuota\",\"message\":\"The specified subscription has a total vCPU quota of 0 and cannot accomodate for at least 1 requested managed compute node which maps to 4 vCPUs. Talk to your Subscription Admin or refer to https://docs.microsoft.com/azure/machine-learning/how-to-manage-quotas#request-quota-increases to increase the total quota\"}}\nCode: BadRequest\nMessage: {\"id\":\"https://resourceprovider.batchai-eastus2.svc/subscriptions/bbf5eb8c-3046-4876-8eb1-5210a3e6750f/providers/Microsoft.BatchAI/locations/eastus2/operationresults/d8ccb84f-6da5-40e2-8333-8a6c367f904d\",\"name\":\"d8ccb84f-6da5-40e2-8333-8a6c367f904d\",\"status\":\"Failed\",\"startTime\":\"2024-08-17T19:11:43.306Z\",\"endTime\":\"2024-08-17T19:11:48.69Z\",\"error\":{\"code\":\"ClusterMinNodesExceedCoreQuota\",\"message\":\"The specified subscription has a total vCPU quota of 0 and cannot accomodate for at least 1 requested managed compute node which maps to 4 vCPUs. Talk to your Subscription Admin or refer to https://docs.microsoft.com/azure/machine-learning/how-to-manage-quotas#request-quota-increases to increase the total quota\"}}",
     "output_type": "error",
     "traceback": [
      "\u001b[1;31m---------------------------------------------------------------------------\u001b[0m",
      "\u001b[1;31mOperationFailed\u001b[0m                           Traceback (most recent call last)",
      "File \u001b[1;32md:\\Softwares\\Anaconda3\\envs\\llm_env\\Lib\\site-packages\\azure\\core\\polling\\base_polling.py:757\u001b[0m, in \u001b[0;36mLROBasePolling.run\u001b[1;34m(self)\u001b[0m\n\u001b[0;32m    756\u001b[0m \u001b[38;5;28;01mtry\u001b[39;00m:\n\u001b[1;32m--> 757\u001b[0m     \u001b[38;5;28;43mself\u001b[39;49m\u001b[38;5;241;43m.\u001b[39;49m\u001b[43m_poll\u001b[49m\u001b[43m(\u001b[49m\u001b[43m)\u001b[49m\n\u001b[0;32m    759\u001b[0m \u001b[38;5;28;01mexcept\u001b[39;00m BadStatus \u001b[38;5;28;01mas\u001b[39;00m err:\n",
      "File \u001b[1;32md:\\Softwares\\Anaconda3\\envs\\llm_env\\Lib\\site-packages\\azure\\core\\polling\\base_polling.py:789\u001b[0m, in \u001b[0;36mLROBasePolling._poll\u001b[1;34m(self)\u001b[0m\n\u001b[0;32m    788\u001b[0m \u001b[38;5;28;01mif\u001b[39;00m _failed(\u001b[38;5;28mself\u001b[39m\u001b[38;5;241m.\u001b[39mstatus()):\n\u001b[1;32m--> 789\u001b[0m     \u001b[38;5;28;01mraise\u001b[39;00m OperationFailed(\u001b[38;5;124m\"\u001b[39m\u001b[38;5;124mOperation failed or canceled\u001b[39m\u001b[38;5;124m\"\u001b[39m)\n\u001b[0;32m    791\u001b[0m final_get_url \u001b[38;5;241m=\u001b[39m \u001b[38;5;28mself\u001b[39m\u001b[38;5;241m.\u001b[39m_operation\u001b[38;5;241m.\u001b[39mget_final_get_url(\u001b[38;5;28mself\u001b[39m\u001b[38;5;241m.\u001b[39m_pipeline_response)\n",
      "\u001b[1;31mOperationFailed\u001b[0m: Operation failed or canceled",
      "\nThe above exception was the direct cause of the following exception:\n",
      "\u001b[1;31mHttpResponseError\u001b[0m                         Traceback (most recent call last)",
      "Cell \u001b[1;32mIn[14], line 29\u001b[0m\n\u001b[0;32m     12\u001b[0m gpu_cluster \u001b[38;5;241m=\u001b[39m AmlCompute(\n\u001b[0;32m     13\u001b[0m     \u001b[38;5;66;03m# Name Assigned to compute cluster\u001b[39;00m\n\u001b[0;32m     14\u001b[0m     name \u001b[38;5;241m=\u001b[39m \u001b[38;5;124m\"\u001b[39m\u001b[38;5;124mgpu-cluster\u001b[39m\u001b[38;5;124m\"\u001b[39m,\n\u001b[1;32m   (...)\u001b[0m\n\u001b[0;32m     26\u001b[0m     tier \u001b[38;5;241m=\u001b[39m \u001b[38;5;124m\"\u001b[39m\u001b[38;5;124mLowPriority\u001b[39m\u001b[38;5;124m\"\u001b[39m       \n\u001b[0;32m     27\u001b[0m )\n\u001b[0;32m     28\u001b[0m \u001b[38;5;66;03m# Now we pass the object to MLClient's create_or_update method\u001b[39;00m\n\u001b[1;32m---> 29\u001b[0m gpu_cluster \u001b[38;5;241m=\u001b[39m \u001b[43mml_client\u001b[49m\u001b[38;5;241;43m.\u001b[39;49m\u001b[43mbegin_create_or_update\u001b[49m\u001b[43m(\u001b[49m\u001b[43mgpu_cluster\u001b[49m\u001b[43m)\u001b[49m\u001b[38;5;241;43m.\u001b[39;49m\u001b[43mresult\u001b[49m\u001b[43m(\u001b[49m\u001b[43m)\u001b[49m\n\u001b[0;32m     30\u001b[0m \u001b[38;5;28mprint\u001b[39m(\u001b[38;5;124mf\u001b[39m\u001b[38;5;124m'\u001b[39m\u001b[38;5;124mAMLCompute with name \u001b[39m\u001b[38;5;132;01m{\u001b[39;00mgpu_cluster\u001b[38;5;241m.\u001b[39mname\u001b[38;5;132;01m}\u001b[39;00m\u001b[38;5;124m created, the compute size is \u001b[39m\u001b[38;5;132;01m{\u001b[39;00mgpu_cluster\u001b[38;5;241m.\u001b[39msize\u001b[38;5;132;01m}\u001b[39;00m\u001b[38;5;124m'\u001b[39m)\n",
      "File \u001b[1;32md:\\Softwares\\Anaconda3\\envs\\llm_env\\Lib\\site-packages\\azure\\core\\polling\\_poller.py:251\u001b[0m, in \u001b[0;36mLROPoller.result\u001b[1;34m(self, timeout)\u001b[0m\n\u001b[0;32m    242\u001b[0m \u001b[38;5;28;01mdef\u001b[39;00m \u001b[38;5;21mresult\u001b[39m(\u001b[38;5;28mself\u001b[39m, timeout: Optional[\u001b[38;5;28mfloat\u001b[39m] \u001b[38;5;241m=\u001b[39m \u001b[38;5;28;01mNone\u001b[39;00m) \u001b[38;5;241m-\u001b[39m\u001b[38;5;241m>\u001b[39m PollingReturnType_co:\n\u001b[0;32m    243\u001b[0m \u001b[38;5;250m    \u001b[39m\u001b[38;5;124;03m\"\"\"Return the result of the long running operation, or\u001b[39;00m\n\u001b[0;32m    244\u001b[0m \u001b[38;5;124;03m    the result available after the specified timeout.\u001b[39;00m\n\u001b[0;32m    245\u001b[0m \n\u001b[1;32m   (...)\u001b[0m\n\u001b[0;32m    249\u001b[0m \u001b[38;5;124;03m    :raises ~azure.core.exceptions.HttpResponseError: Server problem with the query.\u001b[39;00m\n\u001b[0;32m    250\u001b[0m \u001b[38;5;124;03m    \"\"\"\u001b[39;00m\n\u001b[1;32m--> 251\u001b[0m     \u001b[38;5;28;43mself\u001b[39;49m\u001b[38;5;241;43m.\u001b[39;49m\u001b[43mwait\u001b[49m\u001b[43m(\u001b[49m\u001b[43mtimeout\u001b[49m\u001b[43m)\u001b[49m\n\u001b[0;32m    252\u001b[0m     \u001b[38;5;28;01mreturn\u001b[39;00m \u001b[38;5;28mself\u001b[39m\u001b[38;5;241m.\u001b[39m_polling_method\u001b[38;5;241m.\u001b[39mresource()\n",
      "File \u001b[1;32md:\\Softwares\\Anaconda3\\envs\\llm_env\\Lib\\site-packages\\azure\\core\\tracing\\decorator.py:94\u001b[0m, in \u001b[0;36mdistributed_trace.<locals>.decorator.<locals>.wrapper_use_tracer\u001b[1;34m(*args, **kwargs)\u001b[0m\n\u001b[0;32m     92\u001b[0m span_impl_type \u001b[38;5;241m=\u001b[39m settings\u001b[38;5;241m.\u001b[39mtracing_implementation()\n\u001b[0;32m     93\u001b[0m \u001b[38;5;28;01mif\u001b[39;00m span_impl_type \u001b[38;5;129;01mis\u001b[39;00m \u001b[38;5;28;01mNone\u001b[39;00m:\n\u001b[1;32m---> 94\u001b[0m     \u001b[38;5;28;01mreturn\u001b[39;00m \u001b[43mfunc\u001b[49m\u001b[43m(\u001b[49m\u001b[38;5;241;43m*\u001b[39;49m\u001b[43margs\u001b[49m\u001b[43m,\u001b[49m\u001b[43m \u001b[49m\u001b[38;5;241;43m*\u001b[39;49m\u001b[38;5;241;43m*\u001b[39;49m\u001b[43mkwargs\u001b[49m\u001b[43m)\u001b[49m\n\u001b[0;32m     96\u001b[0m \u001b[38;5;66;03m# Merge span is parameter is set, but only if no explicit parent are passed\u001b[39;00m\n\u001b[0;32m     97\u001b[0m \u001b[38;5;28;01mif\u001b[39;00m merge_span \u001b[38;5;129;01mand\u001b[39;00m \u001b[38;5;129;01mnot\u001b[39;00m passed_in_parent:\n",
      "File \u001b[1;32md:\\Softwares\\Anaconda3\\envs\\llm_env\\Lib\\site-packages\\azure\\core\\polling\\_poller.py:270\u001b[0m, in \u001b[0;36mLROPoller.wait\u001b[1;34m(self, timeout)\u001b[0m\n\u001b[0;32m    266\u001b[0m \u001b[38;5;28mself\u001b[39m\u001b[38;5;241m.\u001b[39m_thread\u001b[38;5;241m.\u001b[39mjoin(timeout\u001b[38;5;241m=\u001b[39mtimeout)\n\u001b[0;32m    267\u001b[0m \u001b[38;5;28;01mtry\u001b[39;00m:\n\u001b[0;32m    268\u001b[0m     \u001b[38;5;66;03m# Let's handle possible None in forgiveness here\u001b[39;00m\n\u001b[0;32m    269\u001b[0m     \u001b[38;5;66;03m# https://github.com/python/mypy/issues/8165\u001b[39;00m\n\u001b[1;32m--> 270\u001b[0m     \u001b[38;5;28;01mraise\u001b[39;00m \u001b[38;5;28mself\u001b[39m\u001b[38;5;241m.\u001b[39m_exception  \u001b[38;5;66;03m# type: ignore\u001b[39;00m\n\u001b[0;32m    271\u001b[0m \u001b[38;5;28;01mexcept\u001b[39;00m \u001b[38;5;167;01mTypeError\u001b[39;00m:  \u001b[38;5;66;03m# Was None\u001b[39;00m\n\u001b[0;32m    272\u001b[0m     \u001b[38;5;28;01mpass\u001b[39;00m\n",
      "File \u001b[1;32md:\\Softwares\\Anaconda3\\envs\\llm_env\\Lib\\site-packages\\azure\\core\\polling\\_poller.py:185\u001b[0m, in \u001b[0;36mLROPoller._start\u001b[1;34m(self)\u001b[0m\n\u001b[0;32m    181\u001b[0m \u001b[38;5;250m\u001b[39m\u001b[38;5;124;03m\"\"\"Start the long running operation.\u001b[39;00m\n\u001b[0;32m    182\u001b[0m \u001b[38;5;124;03mOn completion, runs any callbacks.\u001b[39;00m\n\u001b[0;32m    183\u001b[0m \u001b[38;5;124;03m\"\"\"\u001b[39;00m\n\u001b[0;32m    184\u001b[0m \u001b[38;5;28;01mtry\u001b[39;00m:\n\u001b[1;32m--> 185\u001b[0m     \u001b[38;5;28;43mself\u001b[39;49m\u001b[38;5;241;43m.\u001b[39;49m\u001b[43m_polling_method\u001b[49m\u001b[38;5;241;43m.\u001b[39;49m\u001b[43mrun\u001b[49m\u001b[43m(\u001b[49m\u001b[43m)\u001b[49m\n\u001b[0;32m    186\u001b[0m \u001b[38;5;28;01mexcept\u001b[39;00m AzureError \u001b[38;5;28;01mas\u001b[39;00m error:\n\u001b[0;32m    187\u001b[0m     \u001b[38;5;28;01mif\u001b[39;00m \u001b[38;5;129;01mnot\u001b[39;00m error\u001b[38;5;241m.\u001b[39mcontinuation_token:\n",
      "File \u001b[1;32md:\\Softwares\\Anaconda3\\envs\\llm_env\\Lib\\site-packages\\azure\\core\\polling\\base_polling.py:772\u001b[0m, in \u001b[0;36mLROBasePolling.run\u001b[1;34m(self)\u001b[0m\n\u001b[0;32m    765\u001b[0m     \u001b[38;5;28;01mraise\u001b[39;00m HttpResponseError(\n\u001b[0;32m    766\u001b[0m         response\u001b[38;5;241m=\u001b[39m\u001b[38;5;28mself\u001b[39m\u001b[38;5;241m.\u001b[39m_pipeline_response\u001b[38;5;241m.\u001b[39mhttp_response,\n\u001b[0;32m    767\u001b[0m         message\u001b[38;5;241m=\u001b[39m\u001b[38;5;28mstr\u001b[39m(err),\n\u001b[0;32m    768\u001b[0m         error\u001b[38;5;241m=\u001b[39merr,\n\u001b[0;32m    769\u001b[0m     ) \u001b[38;5;28;01mfrom\u001b[39;00m \u001b[38;5;21;01merr\u001b[39;00m\n\u001b[0;32m    771\u001b[0m \u001b[38;5;28;01mexcept\u001b[39;00m OperationFailed \u001b[38;5;28;01mas\u001b[39;00m err:\n\u001b[1;32m--> 772\u001b[0m     \u001b[38;5;28;01mraise\u001b[39;00m HttpResponseError(response\u001b[38;5;241m=\u001b[39m\u001b[38;5;28mself\u001b[39m\u001b[38;5;241m.\u001b[39m_pipeline_response\u001b[38;5;241m.\u001b[39mhttp_response, error\u001b[38;5;241m=\u001b[39merr) \u001b[38;5;28;01mfrom\u001b[39;00m \u001b[38;5;21;01merr\u001b[39;00m\n",
      "\u001b[1;31mHttpResponseError\u001b[0m: (BadRequest) {\"id\":\"https://resourceprovider.batchai-eastus2.svc/subscriptions/bbf5eb8c-3046-4876-8eb1-5210a3e6750f/providers/Microsoft.BatchAI/locations/eastus2/operationresults/d8ccb84f-6da5-40e2-8333-8a6c367f904d\",\"name\":\"d8ccb84f-6da5-40e2-8333-8a6c367f904d\",\"status\":\"Failed\",\"startTime\":\"2024-08-17T19:11:43.306Z\",\"endTime\":\"2024-08-17T19:11:48.69Z\",\"error\":{\"code\":\"ClusterMinNodesExceedCoreQuota\",\"message\":\"The specified subscription has a total vCPU quota of 0 and cannot accomodate for at least 1 requested managed compute node which maps to 4 vCPUs. Talk to your Subscription Admin or refer to https://docs.microsoft.com/azure/machine-learning/how-to-manage-quotas#request-quota-increases to increase the total quota\"}}\nCode: BadRequest\nMessage: {\"id\":\"https://resourceprovider.batchai-eastus2.svc/subscriptions/bbf5eb8c-3046-4876-8eb1-5210a3e6750f/providers/Microsoft.BatchAI/locations/eastus2/operationresults/d8ccb84f-6da5-40e2-8333-8a6c367f904d\",\"name\":\"d8ccb84f-6da5-40e2-8333-8a6c367f904d\",\"status\":\"Failed\",\"startTime\":\"2024-08-17T19:11:43.306Z\",\"endTime\":\"2024-08-17T19:11:48.69Z\",\"error\":{\"code\":\"ClusterMinNodesExceedCoreQuota\",\"message\":\"The specified subscription has a total vCPU quota of 0 and cannot accomodate for at least 1 requested managed compute node which maps to 4 vCPUs. Talk to your Subscription Admin or refer to https://docs.microsoft.com/azure/machine-learning/how-to-manage-quotas#request-quota-increases to increase the total quota\"}}"
     ]
    }
   ],
   "source": [
    "from azure.ai.ml.entities import AmlCompute\n",
    "\n",
    "gpu_compute_target = \"gpu-cluster\"\n",
    "\n",
    "try:\n",
    "    # Check if the compute target already exists\n",
    "    gpu_cluster = ml_client.compute.get(gpu_compute_target)\n",
    "    print(f\"GPU Cluster already present: {gpu_compute_target}\")\n",
    "except Exception:\n",
    "    print(\"Creating new gpu compute target..\")\n",
    "    # Create Azure ML compute object with the intended parameters\n",
    "    gpu_cluster = AmlCompute(\n",
    "        # Name Assigned to compute cluster\n",
    "        name = \"gpu-cluster\",\n",
    "        # Azure M Compute is the on-demand VM Service\n",
    "        type = \"amlcompute\",\n",
    "        # VM Family\n",
    "        size = \"Standard_NC4as_T4_v3\",\n",
    "        # Minimum running nodes when there is no job running\n",
    "        min_instances= 0 ,\n",
    "        # nodes in cluster\n",
    "        max_instances= 4,\n",
    "        # How many secods will the node be running after the job termination-in case async fn are running\n",
    "        idle_time_before_scale_down = 180,\n",
    "        # Dedicated or LowPriority\n",
    "        tier = \"LowPriority\"       \n",
    "    )\n",
    "    # Now we pass the object to MLClient's create_or_update method\n",
    "    gpu_cluster = ml_client.begin_create_or_update(gpu_cluster).result()\n",
    "    print(f'AMLCompute with name {gpu_cluster.name} created, the compute size is {gpu_cluster.size}')\n",
    "\n",
    "\n"
   ]
  },
  {
   "cell_type": "markdown",
   "metadata": {},
   "source": [
    "## Create a job environment\n",
    "1. An Azure Machine learning eenvironment encapsulates the dependencies needed to run machine elarning training script on the created compute resource. This environment is similar to python venv on local machine.\n",
    "2. The Azure machine learning environemtn allows us to either use a curated environment - useful for common training and inference scenarios - or create a custom environment using a docker image or Conda configuration\n",
    "3. In this scenario we will use curated Azure Machine Learning environment - \"AzureML-tensorflow-2.16-ubuntu20.04-py38-cuda11-gpu\""
   ]
  },
  {
   "cell_type": "code",
   "execution_count": null,
   "metadata": {},
   "outputs": [],
   "source": [
    "curated_env_name = \"AzureML-tensorflow-2.16-cuda11@latest\""
   ]
  },
  {
   "cell_type": "markdown",
   "metadata": {},
   "source": []
  }
 ],
 "metadata": {
  "kernelspec": {
   "display_name": "llm_env",
   "language": "python",
   "name": "python3"
  },
  "language_info": {
   "codemirror_mode": {
    "name": "ipython",
    "version": 3
   },
   "file_extension": ".py",
   "mimetype": "text/x-python",
   "name": "python",
   "nbconvert_exporter": "python",
   "pygments_lexer": "ipython3",
   "version": "3.11.9"
  }
 },
 "nbformat": 4,
 "nbformat_minor": 2
}
